{
 "cells": [
  {
   "cell_type": "markdown",
   "metadata": {},
   "source": [
    "# Análisis de ventas y marketing de la empresa Showz\n",
    "\n",
    "\n",
    "En este análisis para Showz, se evaluarán los patrones de uso del servicio por parte de los clientes, desde su primera interacción hasta la realización de compras, con el objetivo de optimizar los gastos de marketing. Se analizarán las visitas, los pedidos y los costos de adquisición para determinar cuándo los ingresos generados por cada cliente superan los gastos de marketing.\n",
    "\n",
    "\n",
    "## Comenzamos el análisis accediendo y limpiando los datos."
   ]
  },
  {
   "cell_type": "markdown",
   "metadata": {},
   "source": [
    "Hola &#x1F600;\n",
    "\n",
    "Soy **Hesus Garcia**  como \"Jesús\" pero con H. Sé que puede ser confuso al principio, pero una vez que lo recuerdes, ¡nunca lo olvidarás! &#x1F31D;\t. Como revisor de código de Triple-Ten, estoy emocionado de examinar tus proyectos y ayudarte a mejorar tus habilidades en programación. si has cometido algún error, no te preocupes, pues ¡estoy aquí para ayudarte a corregirlo y hacer que tu código brille! &#x1F31F;. Si encuentro algún detalle en tu código, te lo señalaré para que lo corrijas, ya que mi objetivo es ayudarte a prepararte para un ambiente de trabajo real, donde el líder de tu equipo actuaría de la misma manera. Si no puedes solucionar el problema, te proporcionaré más información en la próxima oportunidad. Cuando encuentres un comentario,  **por favor, no los muevas, no los modifiques ni los borres**.\n",
    "\n",
    "Revisaré cuidadosamente todas las implementaciones que has realizado para cumplir con los requisitos y te proporcionaré mis comentarios de la siguiente manera:\n",
    "\n",
    "\n",
    "<div class=\"alert alert-block alert-success\">\n",
    "<b>Comentario del revisor</b> <a class=“tocSkip”></a>\n",
    "Si todo está perfecto.\n",
    "</div>\n",
    "\n",
    "<div class=\"alert alert-block alert-warning\">\n",
    "<b>Comentario del revisor</b> <a class=“tocSkip”></a>\n",
    "Si tu código está bien pero se puede mejorar o hay algún detalle que le hace falta.\n",
    "</div>\n",
    "\n",
    "<div class=\"alert alert-block alert-danger\">\n",
    "<b>Comentario del revisor</b> <a class=“tocSkip”></a>\n",
    "Si de pronto hace falta algo o existe algún problema con tu código o conclusiones.\n",
    "</div>\n",
    "\n",
    "Puedes responderme de esta forma:\n",
    "<div class=\"alert alert-block alert-info\">\n",
    "<b>Respuesta del estudiante</b> <a class=“tocSkip”></a>\n",
    "</div>\n",
    "\n",
    "</br>\n",
    "\n",
    "**¡Empecemos!**  &#x1F680;\n",
    "\n"
   ]
  },
  {
   "cell_type": "code",
   "execution_count": 1,
   "metadata": {},
   "outputs": [],
   "source": [
    "# Importamos las librerías necesarias\n",
    "\n",
    "import pandas as pd\n",
    "from scipy import stats as st\n",
    "import matplotlib.pyplot as plt"
   ]
  },
  {
   "cell_type": "code",
   "execution_count": 2,
   "metadata": {},
   "outputs": [],
   "source": [
    "# Importamos los datos\n",
    "visits = pd.read_csv('/datasets/visits_log_us.csv')\n",
    "orders = pd.read_csv('/datasets/orders_log_us.csv')\n",
    "costs = pd.read_csv('/datasets/costs_us.csv')\n"
   ]
  },
  {
   "cell_type": "code",
   "execution_count": 3,
   "metadata": {},
   "outputs": [
    {
     "name": "stdout",
     "output_type": "stream",
     "text": [
      "\n",
      "Información del df visits\n"
     ]
    },
    {
     "data": {
      "text/html": [
       "<div>\n",
       "<style scoped>\n",
       "    .dataframe tbody tr th:only-of-type {\n",
       "        vertical-align: middle;\n",
       "    }\n",
       "\n",
       "    .dataframe tbody tr th {\n",
       "        vertical-align: top;\n",
       "    }\n",
       "\n",
       "    .dataframe thead th {\n",
       "        text-align: right;\n",
       "    }\n",
       "</style>\n",
       "<table border=\"1\" class=\"dataframe\">\n",
       "  <thead>\n",
       "    <tr style=\"text-align: right;\">\n",
       "      <th></th>\n",
       "      <th>Device</th>\n",
       "      <th>End Ts</th>\n",
       "      <th>Source Id</th>\n",
       "      <th>Start Ts</th>\n",
       "      <th>Uid</th>\n",
       "    </tr>\n",
       "  </thead>\n",
       "  <tbody>\n",
       "    <tr>\n",
       "      <th>0</th>\n",
       "      <td>touch</td>\n",
       "      <td>2017-12-20 17:38:00</td>\n",
       "      <td>4</td>\n",
       "      <td>2017-12-20 17:20:00</td>\n",
       "      <td>16879256277535980062</td>\n",
       "    </tr>\n",
       "    <tr>\n",
       "      <th>1</th>\n",
       "      <td>desktop</td>\n",
       "      <td>2018-02-19 17:21:00</td>\n",
       "      <td>2</td>\n",
       "      <td>2018-02-19 16:53:00</td>\n",
       "      <td>104060357244891740</td>\n",
       "    </tr>\n",
       "    <tr>\n",
       "      <th>2</th>\n",
       "      <td>touch</td>\n",
       "      <td>2017-07-01 01:54:00</td>\n",
       "      <td>5</td>\n",
       "      <td>2017-07-01 01:54:00</td>\n",
       "      <td>7459035603376831527</td>\n",
       "    </tr>\n",
       "    <tr>\n",
       "      <th>3</th>\n",
       "      <td>desktop</td>\n",
       "      <td>2018-05-20 11:23:00</td>\n",
       "      <td>9</td>\n",
       "      <td>2018-05-20 10:59:00</td>\n",
       "      <td>16174680259334210214</td>\n",
       "    </tr>\n",
       "    <tr>\n",
       "      <th>4</th>\n",
       "      <td>desktop</td>\n",
       "      <td>2017-12-27 14:06:00</td>\n",
       "      <td>3</td>\n",
       "      <td>2017-12-27 14:06:00</td>\n",
       "      <td>9969694820036681168</td>\n",
       "    </tr>\n",
       "  </tbody>\n",
       "</table>\n",
       "</div>"
      ],
      "text/plain": [
       "    Device               End Ts  Source Id             Start Ts  \\\n",
       "0    touch  2017-12-20 17:38:00          4  2017-12-20 17:20:00   \n",
       "1  desktop  2018-02-19 17:21:00          2  2018-02-19 16:53:00   \n",
       "2    touch  2017-07-01 01:54:00          5  2017-07-01 01:54:00   \n",
       "3  desktop  2018-05-20 11:23:00          9  2018-05-20 10:59:00   \n",
       "4  desktop  2017-12-27 14:06:00          3  2017-12-27 14:06:00   \n",
       "\n",
       "                    Uid  \n",
       "0  16879256277535980062  \n",
       "1    104060357244891740  \n",
       "2   7459035603376831527  \n",
       "3  16174680259334210214  \n",
       "4   9969694820036681168  "
      ]
     },
     "metadata": {},
     "output_type": "display_data"
    },
    {
     "name": "stdout",
     "output_type": "stream",
     "text": [
      "<class 'pandas.core.frame.DataFrame'>\n",
      "RangeIndex: 359400 entries, 0 to 359399\n",
      "Data columns (total 5 columns):\n",
      " #   Column     Non-Null Count   Dtype \n",
      "---  ------     --------------   ----- \n",
      " 0   Device     359400 non-null  object\n",
      " 1   End Ts     359400 non-null  object\n",
      " 2   Source Id  359400 non-null  int64 \n",
      " 3   Start Ts   359400 non-null  object\n",
      " 4   Uid        359400 non-null  uint64\n",
      "dtypes: int64(1), object(3), uint64(1)\n",
      "memory usage: 13.7+ MB\n",
      "None\n",
      "\n",
      "Información del df orders\n"
     ]
    },
    {
     "data": {
      "text/html": [
       "<div>\n",
       "<style scoped>\n",
       "    .dataframe tbody tr th:only-of-type {\n",
       "        vertical-align: middle;\n",
       "    }\n",
       "\n",
       "    .dataframe tbody tr th {\n",
       "        vertical-align: top;\n",
       "    }\n",
       "\n",
       "    .dataframe thead th {\n",
       "        text-align: right;\n",
       "    }\n",
       "</style>\n",
       "<table border=\"1\" class=\"dataframe\">\n",
       "  <thead>\n",
       "    <tr style=\"text-align: right;\">\n",
       "      <th></th>\n",
       "      <th>Buy Ts</th>\n",
       "      <th>Revenue</th>\n",
       "      <th>Uid</th>\n",
       "    </tr>\n",
       "  </thead>\n",
       "  <tbody>\n",
       "    <tr>\n",
       "      <th>0</th>\n",
       "      <td>2017-06-01 00:10:00</td>\n",
       "      <td>17.00</td>\n",
       "      <td>10329302124590727494</td>\n",
       "    </tr>\n",
       "    <tr>\n",
       "      <th>1</th>\n",
       "      <td>2017-06-01 00:25:00</td>\n",
       "      <td>0.55</td>\n",
       "      <td>11627257723692907447</td>\n",
       "    </tr>\n",
       "    <tr>\n",
       "      <th>2</th>\n",
       "      <td>2017-06-01 00:27:00</td>\n",
       "      <td>0.37</td>\n",
       "      <td>17903680561304213844</td>\n",
       "    </tr>\n",
       "    <tr>\n",
       "      <th>3</th>\n",
       "      <td>2017-06-01 00:29:00</td>\n",
       "      <td>0.55</td>\n",
       "      <td>16109239769442553005</td>\n",
       "    </tr>\n",
       "    <tr>\n",
       "      <th>4</th>\n",
       "      <td>2017-06-01 07:58:00</td>\n",
       "      <td>0.37</td>\n",
       "      <td>14200605875248379450</td>\n",
       "    </tr>\n",
       "  </tbody>\n",
       "</table>\n",
       "</div>"
      ],
      "text/plain": [
       "                Buy Ts  Revenue                   Uid\n",
       "0  2017-06-01 00:10:00    17.00  10329302124590727494\n",
       "1  2017-06-01 00:25:00     0.55  11627257723692907447\n",
       "2  2017-06-01 00:27:00     0.37  17903680561304213844\n",
       "3  2017-06-01 00:29:00     0.55  16109239769442553005\n",
       "4  2017-06-01 07:58:00     0.37  14200605875248379450"
      ]
     },
     "metadata": {},
     "output_type": "display_data"
    },
    {
     "name": "stdout",
     "output_type": "stream",
     "text": [
      "<class 'pandas.core.frame.DataFrame'>\n",
      "RangeIndex: 50415 entries, 0 to 50414\n",
      "Data columns (total 3 columns):\n",
      " #   Column   Non-Null Count  Dtype  \n",
      "---  ------   --------------  -----  \n",
      " 0   Buy Ts   50415 non-null  object \n",
      " 1   Revenue  50415 non-null  float64\n",
      " 2   Uid      50415 non-null  uint64 \n",
      "dtypes: float64(1), object(1), uint64(1)\n",
      "memory usage: 1.2+ MB\n",
      "None\n",
      "\n",
      "Información del df costs\n"
     ]
    },
    {
     "data": {
      "text/html": [
       "<div>\n",
       "<style scoped>\n",
       "    .dataframe tbody tr th:only-of-type {\n",
       "        vertical-align: middle;\n",
       "    }\n",
       "\n",
       "    .dataframe tbody tr th {\n",
       "        vertical-align: top;\n",
       "    }\n",
       "\n",
       "    .dataframe thead th {\n",
       "        text-align: right;\n",
       "    }\n",
       "</style>\n",
       "<table border=\"1\" class=\"dataframe\">\n",
       "  <thead>\n",
       "    <tr style=\"text-align: right;\">\n",
       "      <th></th>\n",
       "      <th>source_id</th>\n",
       "      <th>dt</th>\n",
       "      <th>costs</th>\n",
       "    </tr>\n",
       "  </thead>\n",
       "  <tbody>\n",
       "    <tr>\n",
       "      <th>0</th>\n",
       "      <td>1</td>\n",
       "      <td>2017-06-01</td>\n",
       "      <td>75.20</td>\n",
       "    </tr>\n",
       "    <tr>\n",
       "      <th>1</th>\n",
       "      <td>1</td>\n",
       "      <td>2017-06-02</td>\n",
       "      <td>62.25</td>\n",
       "    </tr>\n",
       "    <tr>\n",
       "      <th>2</th>\n",
       "      <td>1</td>\n",
       "      <td>2017-06-03</td>\n",
       "      <td>36.53</td>\n",
       "    </tr>\n",
       "    <tr>\n",
       "      <th>3</th>\n",
       "      <td>1</td>\n",
       "      <td>2017-06-04</td>\n",
       "      <td>55.00</td>\n",
       "    </tr>\n",
       "    <tr>\n",
       "      <th>4</th>\n",
       "      <td>1</td>\n",
       "      <td>2017-06-05</td>\n",
       "      <td>57.08</td>\n",
       "    </tr>\n",
       "  </tbody>\n",
       "</table>\n",
       "</div>"
      ],
      "text/plain": [
       "   source_id          dt  costs\n",
       "0          1  2017-06-01  75.20\n",
       "1          1  2017-06-02  62.25\n",
       "2          1  2017-06-03  36.53\n",
       "3          1  2017-06-04  55.00\n",
       "4          1  2017-06-05  57.08"
      ]
     },
     "metadata": {},
     "output_type": "display_data"
    },
    {
     "name": "stdout",
     "output_type": "stream",
     "text": [
      "<class 'pandas.core.frame.DataFrame'>\n",
      "RangeIndex: 2542 entries, 0 to 2541\n",
      "Data columns (total 3 columns):\n",
      " #   Column     Non-Null Count  Dtype  \n",
      "---  ------     --------------  -----  \n",
      " 0   source_id  2542 non-null   int64  \n",
      " 1   dt         2542 non-null   object \n",
      " 2   costs      2542 non-null   float64\n",
      "dtypes: float64(1), int64(1), object(1)\n",
      "memory usage: 59.7+ KB\n",
      "None\n"
     ]
    }
   ],
   "source": [
    "# Obtenemos información preliminar de los datos\n",
    "print('')\n",
    "print('Información del df visits')\n",
    "display(visits.head())\n",
    "print(visits.info())\n",
    "print('')\n",
    "print('Información del df orders')\n",
    "display(orders.head())\n",
    "print(orders.info())\n",
    "print('')\n",
    "print('Información del df costs')\n",
    "display(costs.head())\n",
    "print(costs.info())"
   ]
  },
  {
   "cell_type": "code",
   "execution_count": 4,
   "metadata": {},
   "outputs": [
    {
     "name": "stdout",
     "output_type": "stream",
     "text": [
      "Nombres de columnas del df visits: Index(['device', 'end_ts', 'source_id', 'start_ts', 'uid'], dtype='object')\n",
      "Nombres de columnas del df orders: Index(['buy_ts', 'revenue', 'uid'], dtype='object')\n",
      "Nombres de columnas del df costs: Index(['source_id', 'date', 'costs'], dtype='object')\n"
     ]
    }
   ],
   "source": [
    "# Eliminamos espacios adicionales los nombres de las columnas\n",
    "visits.columns = visits.columns.str.strip().str.replace(' ', '_').str.lower()\n",
    "orders.columns = orders.columns.str.strip().str.replace(' ', '_').str.lower()\n",
    "costs.columns = costs.columns.str.strip().str.replace(' ', '_').str.lower()\n",
    "\n",
    "# Convertimos a snake_case los nombres de las columnas\n",
    "visits.columns = visits.columns.str.replace('End Ts', 'end_ts').str.replace('Source Id', 'source_id').str.replace('Start Ts', 'start_ts').str.lower()\n",
    "orders.columns = orders.columns.str.replace('Buy Ts', 'buy_ts').str.replace('dt', 'date').str.lower()\n",
    "costs.columns = costs.columns.str.replace('dt', 'date')\n",
    "\n",
    "\n",
    "print('Nombres de columnas del df visits:', visits.columns)\n",
    "print('Nombres de columnas del df orders:', orders.columns)\n",
    "print('Nombres de columnas del df costs:', costs.columns)\n"
   ]
  },
  {
   "cell_type": "code",
   "execution_count": 5,
   "metadata": {},
   "outputs": [
    {
     "name": "stdout",
     "output_type": "stream",
     "text": [
      "Duplicados en visits: 0\n",
      "Duplicados en orders: 0\n",
      "Duplicados en costs: 0\n",
      "Valores nulos en visits:\n",
      "device       0\n",
      "end_ts       0\n",
      "source_id    0\n",
      "start_ts     0\n",
      "uid          0\n",
      "dtype: int64\n",
      "\n",
      "Valores nulos en orders:\n",
      "buy_ts     0\n",
      "revenue    0\n",
      "uid        0\n",
      "dtype: int64\n",
      "\n",
      "Valores nulos en costs:\n",
      "source_id    0\n",
      "date         0\n",
      "costs        0\n",
      "dtype: int64\n"
     ]
    }
   ],
   "source": [
    "# Comprobamos duplicados\n",
    "print('Duplicados en visits:', visits.duplicated().sum())\n",
    "print('Duplicados en orders:', orders.duplicated().sum())\n",
    "print('Duplicados en costs:', costs.duplicated().sum())\n",
    "\n",
    "# Comprobamos valores nulos\n",
    "print('Valores nulos en visits:')\n",
    "print(visits.isnull().sum())\n",
    "print('')\n",
    "print('Valores nulos en orders:')\n",
    "print(orders.isnull().sum())\n",
    "print('')\n",
    "print('Valores nulos en costs:')\n",
    "print(costs.isnull().sum())\n"
   ]
  },
  {
   "cell_type": "code",
   "execution_count": 6,
   "metadata": {},
   "outputs": [],
   "source": [
    "# Convertimos las columnas de fechas a datetime\n",
    "visits['end_ts'] = pd.to_datetime(visits['end_ts'])\n",
    "visits['start_ts'] = pd.to_datetime(visits['start_ts'])\n",
    "orders['buy_ts'] = pd.to_datetime(orders['buy_ts'])\n",
    "costs['date'] = pd.to_datetime(costs['date'])\n"
   ]
  },
  {
   "cell_type": "code",
   "execution_count": 7,
   "metadata": {},
   "outputs": [
    {
     "name": "stdout",
     "output_type": "stream",
     "text": [
      "device               object\n",
      "end_ts       datetime64[ns]\n",
      "source_id             int64\n",
      "start_ts     datetime64[ns]\n",
      "uid                  uint64\n",
      "dtype: object\n",
      "buy_ts     datetime64[ns]\n",
      "revenue           float64\n",
      "uid                uint64\n",
      "dtype: object\n",
      "source_id             int64\n",
      "date         datetime64[ns]\n",
      "costs               float64\n",
      "dtype: object\n"
     ]
    }
   ],
   "source": [
    "# Comprobamos el tipo de datos de las columnas\n",
    "print(visits.dtypes)\n",
    "print(orders.dtypes)\n",
    "print(costs.dtypes)\n"
   ]
  },
  {
   "cell_type": "markdown",
   "metadata": {},
   "source": [
    "<div class=\"alert alert-block alert-success\">\n",
    "<b>Comentario del revisor</b> <a class=“tocSkip”></a>\n",
    "Todo está bien estructurado. La importación y limpieza de los datos están bien realizadas y los nombres de las columnas están estandarizados adecuadamente. ¡Buen trabajo!\n",
    "</div>\n",
    "\n"
   ]
  },
  {
   "cell_type": "markdown",
   "metadata": {},
   "source": [
    "### Conclusiones de la obtención y limpieza de los datos\n",
    "\n",
    "Durante la importación y limpieza de los datos, se llevaron a cabo las siguientes acciones para asegurar que estuvieran listos para el análisis:\n",
    "\n",
    "1. **Nombres de las columnas estandarizados**: \n",
    "   - Fue necesario ajustar los nombres de las columnas para seguir un formato coherente, utilizando **snake_case** y asegurando que todos estuvieran en minúsculas.\n",
    "   - También se eliminaron espacios adicionales para evitar posibles errores al referenciar columnas.\n",
    "\n",
    "2. **Transformación de datos de fechas**:\n",
    "   - Se convirtieron los datos relacionados con fechas y horas al formato **datetime**.\n",
    "\n",
    "3. **Comprobación de duplicados**:\n",
    "   - Se realizó una verificación de duplicados en los DataFrames importados. No se encontraron registros duplicados significativos, por lo que no fue necesario eliminar filas duplicadas.\n",
    "\n",
    "4. **Manejo de valores nulos**:\n",
    "   - Se realizó un análisis de los valores nulos en las columnas relevantes. No se encontraron valores nulos.\n",
    "\n",
    "5. **Consistencia en los tipos de datos**:\n",
    "   - Se verificó que las columnas numéricas estuvieran correctamente tipificadas para evitar problemas con cálculos y agregaciones.\n",
    "   \n",
    "   \n",
    "## Análisis de métricas\n",
    "\n",
    "En este bloque se calcularán e informarán las métricas clave que ayudarán a comprender mejor el comportamiento de los usuarios en **Showz**. \n",
    "\n",
    "- Se analizarán las visitas diarias, semanales y mensuales, el número de sesiones, la duración de cada una y la frecuencia con la que los usuarios regresan al servicio. \n",
    "\n",
    "- Además, se investigarán los patrones de ventas, el ciclo de conversión de los usuarios y el valor que aportan a la empresa.\n",
    "\n",
    "- Por último, se evaluará el rendimiento de las campañas de marketing, calculando el gasto total, el costo de adquisición de clientes y la rentabilidad de las inversiones (ROMI), con el objetivo de identificar las fuentes y dispositivos más efectivos a lo largo del tiempo."
   ]
  },
  {
   "cell_type": "markdown",
   "metadata": {},
   "source": [
    "### Visitas\n",
    "#### ¿Cuántas personas lo usan por día, semana y mes?\n",
    "Podemos agrupar los datos de visitas por fechas, contar cuántos usuarios únicos visitan el sitio en cada período (día, semana y mes) y calcular la media."
   ]
  },
  {
   "cell_type": "code",
   "execution_count": 8,
   "metadata": {
    "scrolled": true
   },
   "outputs": [
    {
     "name": "stdout",
     "output_type": "stream",
     "text": [
      "start_ts\n",
      "2017-06-01     605\n",
      "2017-06-02     608\n",
      "2017-06-03     445\n",
      "2017-06-04     476\n",
      "2017-06-05     820\n",
      "              ... \n",
      "2018-05-27     620\n",
      "2018-05-28    1039\n",
      "2018-05-29     948\n",
      "2018-05-30    1289\n",
      "2018-05-31    1997\n",
      "Name: uid, Length: 364, dtype: int64\n",
      "Media de usuarios por día: 907.9917582417582\n",
      "start_ts\n",
      "2017-05-29/2017-06-04     2021\n",
      "2017-06-05/2017-06-11     4129\n",
      "2017-06-12/2017-06-18     2812\n",
      "2017-06-19/2017-06-25     2878\n",
      "2017-06-26/2017-07-02     3064\n",
      "2017-07-03/2017-07-09     3294\n",
      "2017-07-10/2017-07-16     4355\n",
      "2017-07-17/2017-07-23     3841\n",
      "2017-07-24/2017-07-30     2655\n",
      "2017-07-31/2017-08-06     2364\n",
      "2017-08-07/2017-08-13     2444\n",
      "2017-08-14/2017-08-20     2746\n",
      "2017-08-21/2017-08-27     3116\n",
      "2017-08-28/2017-09-03     3694\n",
      "2017-09-04/2017-09-10     4412\n",
      "2017-09-11/2017-09-17     4319\n",
      "2017-09-18/2017-09-24     4874\n",
      "2017-09-25/2017-10-01     6241\n",
      "2017-10-02/2017-10-08     7612\n",
      "2017-10-09/2017-10-15     7074\n",
      "2017-10-16/2017-10-22     7148\n",
      "2017-10-23/2017-10-29     7401\n",
      "2017-10-30/2017-11-05     7480\n",
      "2017-11-06/2017-11-12     7179\n",
      "2017-11-13/2017-11-19     8117\n",
      "2017-11-20/2017-11-26    10586\n",
      "2017-11-27/2017-12-03     8166\n",
      "2017-12-04/2017-12-10     8407\n",
      "2017-12-11/2017-12-17     8214\n",
      "2017-12-18/2017-12-24     7172\n",
      "2017-12-25/2017-12-31     7774\n",
      "2018-01-01/2018-01-07     6918\n",
      "2018-01-08/2018-01-14     6703\n",
      "2018-01-15/2018-01-21     6972\n",
      "2018-01-22/2018-01-28     7060\n",
      "2018-01-29/2018-02-04     8111\n",
      "2018-02-05/2018-02-11     7908\n",
      "2018-02-12/2018-02-18     7759\n",
      "2018-02-19/2018-02-25     7518\n",
      "2018-02-26/2018-03-04     7395\n",
      "2018-03-05/2018-03-11     6844\n",
      "2018-03-12/2018-03-18     6225\n",
      "2018-03-19/2018-03-25     7898\n",
      "2018-03-26/2018-04-01     4940\n",
      "2018-04-02/2018-04-08     5383\n",
      "2018-04-09/2018-04-15     5494\n",
      "2018-04-16/2018-04-22     5740\n",
      "2018-04-23/2018-04-29     5503\n",
      "2018-04-30/2018-05-06     3916\n",
      "2018-05-07/2018-05-13     4128\n",
      "2018-05-14/2018-05-20     5070\n",
      "2018-05-21/2018-05-27     4995\n",
      "2018-05-28/2018-06-03     4892\n",
      "Freq: W-SUN, Name: uid, dtype: int64\n",
      "Media de usuarios por semana: 5716.245283018868\n",
      "start_ts\n",
      "2017-06    13259\n",
      "2017-07    14183\n",
      "2017-08    11631\n",
      "2017-09    18975\n",
      "2017-10    29692\n",
      "2017-11    32797\n",
      "2017-12    31557\n",
      "2018-01    28716\n",
      "2018-02    28749\n",
      "2018-03    27473\n",
      "2018-04    21008\n",
      "2018-05    20701\n",
      "Freq: M, Name: uid, dtype: int64\n",
      "Media de usuarios por mes: 23228.416666666668\n"
     ]
    }
   ],
   "source": [
    "# Personas por día\n",
    "users_per_day = visits.groupby(visits['start_ts'].dt.date)['uid'].nunique()\n",
    "print(users_per_day)\n",
    "\n",
    "# Calculamos la media de usuarios por día\n",
    "mean_users_per_day = users_per_day.mean()\n",
    "print(\"Media de usuarios por día:\", mean_users_per_day)\n",
    "\n",
    "# Personas por semana\n",
    "users_per_week = visits.groupby(visits['start_ts'].dt.to_period('W'))['uid'].nunique()\n",
    "print(users_per_week)\n",
    "\n",
    "# Calculamos la media de usuarios por semana\n",
    "mean_users_per_week = users_per_week.mean()\n",
    "print(\"Media de usuarios por semana:\", mean_users_per_week)\n",
    "\n",
    "# Personas por mes\n",
    "users_per_month = visits.groupby(visits['start_ts'].dt.to_period('M'))['uid'].nunique()\n",
    "print(users_per_month)\n",
    "\n",
    "# Calculamos la media de usuarios por mes\n",
    "mean_users_per_month = users_per_month.mean()\n",
    "print(\"Media de usuarios por mes:\", mean_users_per_month)"
   ]
  },
  {
   "cell_type": "markdown",
   "metadata": {},
   "source": [
    "#### ¿Cuántas sesiones hay por día?\n",
    "Para saber cuántas sesiones hay por día, podemos agrupar las visitas por fecha y contar el número de sesiones."
   ]
  },
  {
   "cell_type": "code",
   "execution_count": 9,
   "metadata": {},
   "outputs": [
    {
     "name": "stdout",
     "output_type": "stream",
     "text": [
      "start_ts\n",
      "2017-06-01     664\n",
      "2017-06-02     658\n",
      "2017-06-03     477\n",
      "2017-06-04     510\n",
      "2017-06-05     893\n",
      "              ... \n",
      "2018-05-27     672\n",
      "2018-05-28    1156\n",
      "2018-05-29    1035\n",
      "2018-05-30    1410\n",
      "2018-05-31    2256\n",
      "Name: uid, Length: 364, dtype: int64\n"
     ]
    }
   ],
   "source": [
    "# Sesiones por día\n",
    "sessions_per_day = visits.groupby(visits['start_ts'].dt.date)['uid'].count()\n",
    "print(sessions_per_day)\n"
   ]
  },
  {
   "cell_type": "markdown",
   "metadata": {},
   "source": [
    "#### ¿Cuál es la duración de cada sesión?"
   ]
  },
  {
   "cell_type": "code",
   "execution_count": 10,
   "metadata": {},
   "outputs": [
    {
     "name": "stdout",
     "output_type": "stream",
     "text": [
      "Duración promedio de cada sesión en segundos: 643.0256872565387\n"
     ]
    }
   ],
   "source": [
    "# Calculamos la duración de cada sesión\n",
    "visits['session_duration'] = visits['end_ts'] - visits['start_ts']\n",
    "\n",
    "# Convertimos la duración a segundos para un análisis más fácil\n",
    "visits['session_duration_seconds'] = visits['session_duration'].dt.total_seconds()\n",
    "\n",
    "# Mostrar la duración promedio de las sesiones\n",
    "average_session_duration = visits['session_duration_seconds'].mean()\n",
    "print(\"Duración promedio de cada sesión en segundos:\", average_session_duration)\n"
   ]
  },
  {
   "cell_type": "markdown",
   "metadata": {},
   "source": [
    "#### ¿Con qué frecuencia los usuarios regresan?\n",
    "Para calcular la frecuencia con la que los usuarios regresan, podemos contar el número de visitas por usuario y ver cuántos usuarios regresan después de su primera visita."
   ]
  },
  {
   "cell_type": "code",
   "execution_count": 11,
   "metadata": {},
   "outputs": [
    {
     "name": "stdout",
     "output_type": "stream",
     "text": [
      "1      176041\n",
      "2       30926\n",
      "3       10184\n",
      "4        4357\n",
      "5        2283\n",
      "        ...  \n",
      "190         1\n",
      "188         1\n",
      "314         1\n",
      "309         1\n",
      "255         1\n",
      "Name: start_ts, Length: 145, dtype: int64\n"
     ]
    }
   ],
   "source": [
    "# Contamos el número de visitas por usuario\n",
    "user_visits_count = visits.groupby('uid')['start_ts'].count()\n",
    "\n",
    "# Ver la distribución de la frecuencia de visitas (cuántos usuarios regresan varias veces)\n",
    "user_visit_distribution = user_visits_count.value_counts()\n",
    "print(user_visit_distribution)\n"
   ]
  },
  {
   "cell_type": "markdown",
   "metadata": {},
   "source": [
    "<div class=\"alert alert-block alert-success\">\n",
    "<b>Comentario del revisor</b> <a class=“tocSkip”></a>\n",
    "El análisis de visitas está bien realizado. Has agrupado los datos de manera efectiva y proporcionado un enfoque claro para calcular la media de usuarios, sesiones y duración de las sesiones. ¡Excelente trabajo!\n",
    "</div>\n"
   ]
  },
  {
   "cell_type": "markdown",
   "metadata": {},
   "source": [
    "<div class=\"alert alert-block alert-warning\">\n",
    "<b>Comentario del revisor</b> <a class=“tocSkip”></a>\n",
    "Considera usar gráficos para visualizar los datos de usuarios y sesiones por día, semana y mes. Esto facilitaría la interpretación de los resultados. Además, podrías encapsular algunos de estos cálculos en funciones para mejorar la claridad del código.\n",
    "</div>\n"
   ]
  },
  {
   "cell_type": "markdown",
   "metadata": {},
   "source": [
    "### Ventas\n",
    "#### ¿Cuándo empieza la gente a comprar?\n",
    "Aquí se trata de calcular el tiempo que transcurre entre el registro (``visits``) y la primera compra de cada usuario. Para hacer esto, podemos restar la fecha de la primera compra de la fecha de la primera visita para cada usuario. Luego, agrupamos estos resultados en categorías como ``Conversion 0d``, ``Conversion 1d``, etc."
   ]
  },
  {
   "cell_type": "code",
   "execution_count": 12,
   "metadata": {},
   "outputs": [
    {
     "name": "stdout",
     "output_type": "stream",
     "text": [
      "Conversion 0d     53424\n",
      "Conversion 1d      6922\n",
      "Conversion 1w     28811\n",
      "Conversion 1m     70292\n",
      "Conversion 3m    110544\n",
      "Conversion 1y    123911\n",
      "Name: conversion_category, dtype: int64\n"
     ]
    }
   ],
   "source": [
    "# Unimos los DataFrames visits y orders por 'uid' (usuario) para obtener las fechas de la primera compra\n",
    "merged_data = pd.merge(visits[['uid', 'start_ts']], orders[['uid', 'buy_ts']], on='uid', how='inner')\n",
    "\n",
    "# Agrupamos por usuario y calcular el tiempo entre la primera visita y la compra\n",
    "merged_data['conversion_time'] = (merged_data['buy_ts'] - merged_data['start_ts']).dt.days\n",
    "\n",
    "# Crear una columna con categorías basadas en el tiempo de conversión\n",
    "merged_data['conversion_category'] = pd.cut(merged_data['conversion_time'], \n",
    "                                            bins=[-1, 0, 1, 7, 30, 90, 365],\n",
    "                                            labels=['Conversion 0d', 'Conversion 1d', 'Conversion 1w', 'Conversion 1m', 'Conversion 3m', 'Conversion 1y'])\n",
    "\n",
    "# Ver la distribución de las conversiones por categoría\n",
    "conversion_distribution = merged_data['conversion_category'].value_counts().sort_index()\n",
    "print(conversion_distribution)\n"
   ]
  },
  {
   "cell_type": "markdown",
   "metadata": {},
   "source": [
    "#### ¿Cuántos pedidos hacen durante un período de tiempo dado?\n",
    "Para saber cuántos pedidos hace cada usuario, podemos agrupar los datos de pedidos por usuario y calcular el número de compras que han hecho en un período específico, por ejemplo, durante un mes o un año."
   ]
  },
  {
   "cell_type": "code",
   "execution_count": 13,
   "metadata": {},
   "outputs": [
    {
     "name": "stdout",
     "output_type": "stream",
     "text": [
      "count    36523.000000\n",
      "mean         1.380363\n",
      "std          3.454461\n",
      "min          1.000000\n",
      "25%          1.000000\n",
      "50%          1.000000\n",
      "75%          1.000000\n",
      "max        239.000000\n",
      "Name: buy_ts, dtype: float64\n",
      "buy_ts\n",
      "2017-06    2354\n",
      "2017-07    2363\n",
      "2017-08    1807\n",
      "2017-09    3387\n",
      "2017-10    5679\n",
      "2017-11    5659\n",
      "2017-12    6218\n",
      "2018-01    4721\n",
      "2018-02    5281\n",
      "2018-03    5326\n",
      "2018-04    3273\n",
      "2018-05    4346\n",
      "2018-06       1\n",
      "Freq: M, Name: buy_ts, dtype: int64\n"
     ]
    }
   ],
   "source": [
    "# Agrupamos por usuario y contar el número de pedidos\n",
    "orders_per_user = orders.groupby('uid')['buy_ts'].count()\n",
    "\n",
    "# Ver la distribución de pedidos por usuario\n",
    "print(orders_per_user.describe())\n",
    "\n",
    "# También se puede agrupar por mes para ver los pedidos en un período de tiempo específico\n",
    "orders_per_month = orders.groupby(orders['buy_ts'].dt.to_period('M'))['buy_ts'].count()\n",
    "print(orders_per_month)\n"
   ]
  },
  {
   "cell_type": "markdown",
   "metadata": {},
   "source": [
    "#### ¿Cuál es el tamaño promedio de compra?\n",
    "Para calcular el tamaño promedio de compra, podemos calcular el promedio de la columna revenue en el DataFrame de pedidos (``orders``)."
   ]
  },
  {
   "cell_type": "code",
   "execution_count": 14,
   "metadata": {},
   "outputs": [
    {
     "name": "stdout",
     "output_type": "stream",
     "text": [
      "Tamaño promedio de compra: 4.999646930477041\n"
     ]
    }
   ],
   "source": [
    "# Calculamos el tamaño promedio de compra\n",
    "average_order_value = orders['revenue'].mean()\n",
    "print(\"Tamaño promedio de compra:\", average_order_value)\n"
   ]
  },
  {
   "cell_type": "markdown",
   "metadata": {},
   "source": [
    "#### ¿Cuánto dinero traen? (LTV - Lifetime Value)\n",
    "El LTV (Lifetime Value) se refiere al valor total que un cliente ha generado durante toda su vida como cliente. Para calcular el LTV, necesitamos sumar los ingresos (``revenue``) por usuario y luego tomar el promedio de estos valores por cliente."
   ]
  },
  {
   "cell_type": "code",
   "execution_count": 28,
   "metadata": {},
   "outputs": [
    {
     "name": "stdout",
     "output_type": "stream",
     "text": [
      "LTV promedio: 6.901327930345262\n"
     ]
    },
    {
     "data": {
      "text/html": [
       "<div>\n",
       "<style scoped>\n",
       "    .dataframe tbody tr th:only-of-type {\n",
       "        vertical-align: middle;\n",
       "    }\n",
       "\n",
       "    .dataframe tbody tr th {\n",
       "        vertical-align: top;\n",
       "    }\n",
       "\n",
       "    .dataframe thead th {\n",
       "        text-align: right;\n",
       "    }\n",
       "</style>\n",
       "<table border=\"1\" class=\"dataframe\">\n",
       "  <thead>\n",
       "    <tr style=\"text-align: right;\">\n",
       "      <th>age</th>\n",
       "      <th>0</th>\n",
       "      <th>1</th>\n",
       "      <th>2</th>\n",
       "      <th>3</th>\n",
       "      <th>4</th>\n",
       "      <th>5</th>\n",
       "      <th>6</th>\n",
       "      <th>7</th>\n",
       "      <th>8</th>\n",
       "      <th>9</th>\n",
       "      <th>10</th>\n",
       "      <th>11</th>\n",
       "      <th>12</th>\n",
       "    </tr>\n",
       "    <tr>\n",
       "      <th>source_id</th>\n",
       "      <th></th>\n",
       "      <th></th>\n",
       "      <th></th>\n",
       "      <th></th>\n",
       "      <th></th>\n",
       "      <th></th>\n",
       "      <th></th>\n",
       "      <th></th>\n",
       "      <th></th>\n",
       "      <th></th>\n",
       "      <th></th>\n",
       "      <th></th>\n",
       "      <th></th>\n",
       "    </tr>\n",
       "  </thead>\n",
       "  <tbody>\n",
       "    <tr>\n",
       "      <th>1</th>\n",
       "      <td>495242.71</td>\n",
       "      <td>242318.00</td>\n",
       "      <td>232113.72</td>\n",
       "      <td>231529.88</td>\n",
       "      <td>137646.44</td>\n",
       "      <td>199485.83</td>\n",
       "      <td>192187.02</td>\n",
       "      <td>115507.85</td>\n",
       "      <td>139303.17</td>\n",
       "      <td>149360.17</td>\n",
       "      <td>118920.89</td>\n",
       "      <td>41402.22</td>\n",
       "      <td>3182.27</td>\n",
       "    </tr>\n",
       "    <tr>\n",
       "      <th>2</th>\n",
       "      <td>506144.72</td>\n",
       "      <td>244286.30</td>\n",
       "      <td>652840.19</td>\n",
       "      <td>307870.31</td>\n",
       "      <td>220446.09</td>\n",
       "      <td>127853.85</td>\n",
       "      <td>189787.33</td>\n",
       "      <td>135775.49</td>\n",
       "      <td>106819.56</td>\n",
       "      <td>72802.06</td>\n",
       "      <td>40617.28</td>\n",
       "      <td>32268.21</td>\n",
       "      <td>677.82</td>\n",
       "    </tr>\n",
       "    <tr>\n",
       "      <th>3</th>\n",
       "      <td>118572.01</td>\n",
       "      <td>24936.14</td>\n",
       "      <td>51269.79</td>\n",
       "      <td>23236.38</td>\n",
       "      <td>15160.17</td>\n",
       "      <td>14199.95</td>\n",
       "      <td>16532.61</td>\n",
       "      <td>9194.52</td>\n",
       "      <td>7643.72</td>\n",
       "      <td>6660.69</td>\n",
       "      <td>8386.77</td>\n",
       "      <td>822.86</td>\n",
       "      <td>72.35</td>\n",
       "    </tr>\n",
       "    <tr>\n",
       "      <th>4</th>\n",
       "      <td>182480.00</td>\n",
       "      <td>34819.27</td>\n",
       "      <td>57818.44</td>\n",
       "      <td>71211.30</td>\n",
       "      <td>32700.74</td>\n",
       "      <td>32690.44</td>\n",
       "      <td>25991.69</td>\n",
       "      <td>16255.83</td>\n",
       "      <td>14366.69</td>\n",
       "      <td>14558.89</td>\n",
       "      <td>9996.61</td>\n",
       "      <td>3203.10</td>\n",
       "      <td>597.17</td>\n",
       "    </tr>\n",
       "    <tr>\n",
       "      <th>5</th>\n",
       "      <td>192448.23</td>\n",
       "      <td>104924.30</td>\n",
       "      <td>292658.24</td>\n",
       "      <td>154657.65</td>\n",
       "      <td>127934.01</td>\n",
       "      <td>63432.06</td>\n",
       "      <td>70272.50</td>\n",
       "      <td>48188.43</td>\n",
       "      <td>60087.61</td>\n",
       "      <td>41746.28</td>\n",
       "      <td>16730.74</td>\n",
       "      <td>8077.87</td>\n",
       "      <td>319.22</td>\n",
       "    </tr>\n",
       "    <tr>\n",
       "      <th>7</th>\n",
       "      <td>1.22</td>\n",
       "      <td>0.00</td>\n",
       "      <td>0.00</td>\n",
       "      <td>0.00</td>\n",
       "      <td>0.00</td>\n",
       "      <td>0.00</td>\n",
       "      <td>0.00</td>\n",
       "      <td>0.00</td>\n",
       "      <td>0.00</td>\n",
       "      <td>0.00</td>\n",
       "      <td>0.00</td>\n",
       "      <td>0.00</td>\n",
       "      <td>0.00</td>\n",
       "    </tr>\n",
       "    <tr>\n",
       "      <th>9</th>\n",
       "      <td>22134.91</td>\n",
       "      <td>3298.84</td>\n",
       "      <td>2328.39</td>\n",
       "      <td>1456.91</td>\n",
       "      <td>1254.65</td>\n",
       "      <td>821.43</td>\n",
       "      <td>1775.57</td>\n",
       "      <td>1023.41</td>\n",
       "      <td>957.35</td>\n",
       "      <td>997.11</td>\n",
       "      <td>93.36</td>\n",
       "      <td>115.99</td>\n",
       "      <td>84.33</td>\n",
       "    </tr>\n",
       "    <tr>\n",
       "      <th>10</th>\n",
       "      <td>10220.05</td>\n",
       "      <td>544.39</td>\n",
       "      <td>933.96</td>\n",
       "      <td>336.09</td>\n",
       "      <td>286.30</td>\n",
       "      <td>234.93</td>\n",
       "      <td>71.59</td>\n",
       "      <td>144.08</td>\n",
       "      <td>221.95</td>\n",
       "      <td>503.10</td>\n",
       "      <td>139.04</td>\n",
       "      <td>982.77</td>\n",
       "      <td>0.98</td>\n",
       "    </tr>\n",
       "  </tbody>\n",
       "</table>\n",
       "</div>"
      ],
      "text/plain": [
       "age               0          1          2          3          4          5   \\\n",
       "source_id                                                                     \n",
       "1          495242.71  242318.00  232113.72  231529.88  137646.44  199485.83   \n",
       "2          506144.72  244286.30  652840.19  307870.31  220446.09  127853.85   \n",
       "3          118572.01   24936.14   51269.79   23236.38   15160.17   14199.95   \n",
       "4          182480.00   34819.27   57818.44   71211.30   32700.74   32690.44   \n",
       "5          192448.23  104924.30  292658.24  154657.65  127934.01   63432.06   \n",
       "7               1.22       0.00       0.00       0.00       0.00       0.00   \n",
       "9           22134.91    3298.84    2328.39    1456.91    1254.65     821.43   \n",
       "10          10220.05     544.39     933.96     336.09     286.30     234.93   \n",
       "\n",
       "age               6          7          8          9          10        11  \\\n",
       "source_id                                                                    \n",
       "1          192187.02  115507.85  139303.17  149360.17  118920.89  41402.22   \n",
       "2          189787.33  135775.49  106819.56   72802.06   40617.28  32268.21   \n",
       "3           16532.61    9194.52    7643.72    6660.69    8386.77    822.86   \n",
       "4           25991.69   16255.83   14366.69   14558.89    9996.61   3203.10   \n",
       "5           70272.50   48188.43   60087.61   41746.28   16730.74   8077.87   \n",
       "7               0.00       0.00       0.00       0.00       0.00      0.00   \n",
       "9            1775.57    1023.41     957.35     997.11      93.36    115.99   \n",
       "10             71.59     144.08     221.95     503.10     139.04    982.77   \n",
       "\n",
       "age             12  \n",
       "source_id           \n",
       "1          3182.27  \n",
       "2           677.82  \n",
       "3            72.35  \n",
       "4           597.17  \n",
       "5           319.22  \n",
       "7             0.00  \n",
       "9            84.33  \n",
       "10            0.98  "
      ]
     },
     "metadata": {},
     "output_type": "display_data"
    }
   ],
   "source": [
    "# Calculamos el LTV por usuario (sumar todas las compras de cada usuario)\n",
    "ltv_per_user = orders.groupby('uid')['revenue'].sum()\n",
    "\n",
    "# Calculamos el LTV promedio\n",
    "average_ltv = ltv_per_user.mean()\n",
    "print(\"LTV promedio:\", average_ltv)\n",
    "\n",
    "# Mostrar el LTV por meses para verlo mejor\n",
    "# Unimos orders con visits para obtener el source_id (fuente de adquisición)\n",
    "merged_orders = pd.merge(orders, visits[['uid', 'source_id']], on='uid', how='left')\n",
    "\n",
    "# Calculamos la primera compra de cada usuario\n",
    "merged_orders['first_purchase'] = merged_orders.groupby('uid')['buy_ts'].transform('min')\n",
    "\n",
    "# Calculamos el \"age\" en meses (diferencia entre la compra actual y la primera compra)\n",
    "merged_orders['age'] = ((merged_orders['buy_ts'] - merged_orders['first_purchase']) / pd.Timedelta(30, unit='D')).astype(int)\n",
    "\n",
    "# Creamos la tabla dinámica (pivot table) con source_id en las filas y age en las columnas\n",
    "ltv_pivot = pd.pivot_table(merged_orders, \n",
    "                           index='source_id',          # Filas por fuente de adquisición\n",
    "                           columns='age',              # Columnas por \"age\" en meses\n",
    "                           values='revenue',           # Usar revenue para LTV\n",
    "                           aggfunc='sum',              # Sumar los ingresos por cohort\n",
    "                           fill_value=0)               # Rellenar con 0 donde no hay ingresos\n",
    "\n",
    "\n",
    "display(ltv_pivot)\n"
   ]
  },
  {
   "cell_type": "markdown",
   "metadata": {},
   "source": [
    "<div class=\"alert alert-block alert-success\">\n",
    "<b>Comentario del revisor</b> <a class=“tocSkip”></a>\n",
    "El análisis de ventas está bien estructurado. Has implementado correctamente el cálculo del tiempo de conversión y las categorías, lo que facilita la interpretación de los datos. Además, la metodología para calcular el LTV es clara y efectiva. ¡Gran trabajo!\n",
    "</div>\n"
   ]
  },
  {
   "cell_type": "markdown",
   "metadata": {},
   "source": [
    "### Marketing\n",
    "#### ¿Cuánto dinero se gastó? (Total, por fuente de adquisición y a lo largo del tiempo)\n",
    "Para esto, utilizaremos el DataFrame de costos (``costs``), que contiene información sobre el gasto total y desglosado por fuente de adquisición y por período de tiempo.\n",
    "\n",
    "a) Total gastado:"
   ]
  },
  {
   "cell_type": "code",
   "execution_count": 16,
   "metadata": {},
   "outputs": [
    {
     "name": "stdout",
     "output_type": "stream",
     "text": [
      "Total gastado en marketing: 329131.62\n"
     ]
    }
   ],
   "source": [
    "# Calculamos el gasto total en marketing\n",
    "total_spent = costs['costs'].sum()\n",
    "print(\"Total gastado en marketing:\", total_spent)"
   ]
  },
  {
   "cell_type": "markdown",
   "metadata": {},
   "source": [
    "b) Gastos por fuente de adquisición:"
   ]
  },
  {
   "cell_type": "code",
   "execution_count": 17,
   "metadata": {},
   "outputs": [
    {
     "name": "stdout",
     "output_type": "stream",
     "text": [
      "Gasto por fuente de adquisición:\n",
      "source_id\n",
      "1      20833.27\n",
      "2      42806.04\n",
      "3     141321.63\n",
      "4      61073.60\n",
      "5      51757.10\n",
      "9       5517.49\n",
      "10      5822.49\n",
      "Name: costs, dtype: float64\n"
     ]
    }
   ],
   "source": [
    "# Agrupamos por fuente de adquisición y sumar los costos\n",
    "costs_by_source = costs.groupby('source_id')['costs'].sum()\n",
    "print(\"Gasto por fuente de adquisición:\")\n",
    "print(costs_by_source)"
   ]
  },
  {
   "cell_type": "markdown",
   "metadata": {},
   "source": [
    "c) Gastos a lo largo del tiempo:"
   ]
  },
  {
   "cell_type": "code",
   "execution_count": 18,
   "metadata": {},
   "outputs": [
    {
     "name": "stdout",
     "output_type": "stream",
     "text": [
      "Gasto mensual en marketing:\n",
      "date\n",
      "2017-06    18015.00\n",
      "2017-07    18240.59\n",
      "2017-08    14790.54\n",
      "2017-09    24368.91\n",
      "2017-10    36322.88\n",
      "2017-11    37907.88\n",
      "2017-12    38315.35\n",
      "2018-01    33518.52\n",
      "2018-02    32723.03\n",
      "2018-03    30415.27\n",
      "2018-04    22289.38\n",
      "2018-05    22224.27\n",
      "Freq: M, Name: costs, dtype: float64\n"
     ]
    }
   ],
   "source": [
    "# Agrupamos por mes para ver el gasto mensual\n",
    "costs_by_month = costs.groupby(costs['date'].dt.to_period('M'))['costs'].sum()\n",
    "print(\"Gasto mensual en marketing:\")\n",
    "print(costs_by_month)"
   ]
  },
  {
   "cell_type": "markdown",
   "metadata": {},
   "source": [
    "#### ¿Cuál fue el costo de adquisición de clientes de cada una de las fuentes? (CAC)\n",
    "El Costo de Adquisición de Clientes (``CAC``) lo calculamos dividiendo el gasto en marketing por el número de clientes adquiridos (primeras compras) desde esa fuente."
   ]
  },
  {
   "cell_type": "code",
   "execution_count": 19,
   "metadata": {},
   "outputs": [
    {
     "name": "stdout",
     "output_type": "stream",
     "text": [
      "Costo de adquisición de clientes (CAC) por fuente de adquisición:\n",
      "source_id\n",
      "1      2.918642\n",
      "2      5.859828\n",
      "3     10.206676\n",
      "4      4.284965\n",
      "5      5.096209\n",
      "7           NaN\n",
      "9      1.975471\n",
      "10     3.283976\n",
      "dtype: float64\n"
     ]
    }
   ],
   "source": [
    "# Unimos los DataFrames de visitas y pedidos por 'uid' para contar cuántos usuarios realizaron su primera compra desde cada fuente\n",
    "merged_visits_orders = pd.merge(visits[['uid', 'source_id']], orders[['uid', 'buy_ts']], on='uid')\n",
    "\n",
    "# Agrupamos por 'source_id' y contar el número de clientes adquiridos (usuarios que realizaron compras)\n",
    "customers_by_source = merged_visits_orders.groupby('source_id')['uid'].nunique()\n",
    "\n",
    "# Calculamos el CAC por fuente de adquisición\n",
    "cac_by_source = costs_by_source / customers_by_source\n",
    "print(\"Costo de adquisición de clientes (CAC) por fuente de adquisición:\")\n",
    "print(cac_by_source)"
   ]
  },
  {
   "cell_type": "markdown",
   "metadata": {},
   "source": [
    "#### ¿Cuán rentables eran las inversiones? (ROMI)\n",
    "En este caso necesitamos unir los DataFrames de ``visits`` y ``orders`` para poder realizar el cálculo."
   ]
  },
  {
   "cell_type": "code",
   "execution_count": 20,
   "metadata": {},
   "outputs": [
    {
     "name": "stdout",
     "output_type": "stream",
     "text": [
      "Rentabilidad de la inversión (ROMI) por fuente de adquisición:\n",
      "source_id\n",
      "1     109.313944\n",
      "2      60.631237\n",
      "3       1.099381\n",
      "4       7.132649\n",
      "5      21.827344\n",
      "7            NaN\n",
      "9       5.586736\n",
      "10      1.510821\n",
      "dtype: float64\n"
     ]
    }
   ],
   "source": [
    "# Unir los DataFrames de visits y orders por 'uid' (usuario) para obtener la fuente de adquisición\n",
    "merged_orders = pd.merge(orders, visits[['uid', 'source_id']], on='uid', how='left')\n",
    "\n",
    "# Calculamos los ingresos generados por cada fuente de adquisición\n",
    "revenue_by_source = merged_orders.groupby('source_id')['revenue'].sum()\n",
    "\n",
    "# Calculamos el ROMI por fuente de adquisición\n",
    "romi_by_source = (revenue_by_source - costs_by_source) / costs_by_source\n",
    "print(\"Rentabilidad de la inversión (ROMI) por fuente de adquisición:\")\n",
    "print(romi_by_source)"
   ]
  },
  {
   "cell_type": "markdown",
   "metadata": {},
   "source": [
    "<div class=\"alert alert-block alert-success\">\n",
    "<b>Comentario del revisor</b> <a class=“tocSkip”></a>\n",
    "El análisis de marketing está bien elaborado. Has calculado el gasto total y desglosado por fuente de adquisición de manera efectiva. Además, el cálculo del CAC y ROMI proporciona una visión clara de la rentabilidad de las inversiones. ¡Muy buen trabajo!\n",
    "</div>\n",
    "\n"
   ]
  },
  {
   "cell_type": "markdown",
   "metadata": {},
   "source": [
    "### Trazar gráficos para visualizar las métricas\n",
    "a) Gasto total y por fuente de adquisición:"
   ]
  },
  {
   "cell_type": "code",
   "execution_count": 21,
   "metadata": {},
   "outputs": [
    {
     "data": {
      "image/png": "[encoded data removed]",
      "text/plain": [
       "<Figure size 640x480 with 1 Axes>"
      ]
     },
     "metadata": {},
     "output_type": "display_data"
    }
   ],
   "source": [
    "# Gráfico de gasto por fuente de adquisición\n",
    "costs_by_source.plot(kind='bar', title='Gasto por fuente de adquisición', ylabel='Costos', xlabel='Fuente de adquisición')\n",
    "plt.show()"
   ]
  },
  {
   "cell_type": "markdown",
   "metadata": {},
   "source": [
    "b) Gasto a lo largo del tiempo:"
   ]
  },
  {
   "cell_type": "code",
   "execution_count": 22,
   "metadata": {},
   "outputs": [
    {
     "data": {
      "image/png": "[encoded data removed]",
      "text/plain": [
       "<Figure size 640x480 with 1 Axes>"
      ]
     },
     "metadata": {},
     "output_type": "display_data"
    }
   ],
   "source": [
    "# Gráfico de gasto a lo largo del tiempo (mensual)\n",
    "costs_by_month.plot(kind='line', title='Gasto mensual en marketing', ylabel='Costos', xlabel='Mes')\n",
    "plt.show()"
   ]
  },
  {
   "cell_type": "markdown",
   "metadata": {},
   "source": [
    "c) CAC por fuente de adquisición:"
   ]
  },
  {
   "cell_type": "code",
   "execution_count": 23,
   "metadata": {},
   "outputs": [
    {
     "data": {
      "image/png": "[encoded data removed]",
      "text/plain": [
       "<Figure size 640x480 with 1 Axes>"
      ]
     },
     "metadata": {},
     "output_type": "display_data"
    }
   ],
   "source": [
    "# Gráfico de CAC por fuente de adquisición\n",
    "cac_by_source.plot(kind='bar', title='Costo de adquisición de clientes por fuente', ylabel='CAC', xlabel='Fuente de adquisición')\n",
    "plt.show()"
   ]
  },
  {
   "cell_type": "markdown",
   "metadata": {},
   "source": [
    "d) ROMI por fuente de adquisición:"
   ]
  },
  {
   "cell_type": "code",
   "execution_count": 24,
   "metadata": {
    "scrolled": true
   },
   "outputs": [
    {
     "data": {
      "image/png": "[encoded data removed]",
      "text/plain": [
       "<Figure size 640x480 with 1 Axes>"
      ]
     },
     "metadata": {},
     "output_type": "display_data"
    }
   ],
   "source": [
    "# Gráfico de ROMI por fuente de adquisición\n",
    "romi_by_source.plot(kind='bar', title='Rentabilidad de la inversión (ROMI) por fuente', ylabel='ROMI', xlabel='Fuente de adquisición')\n",
    "plt.show()"
   ]
  },
  {
   "cell_type": "markdown",
   "metadata": {},
   "source": [
    "<div class=\"alert alert-block alert-success\">\n",
    "<b>Comentario del revisor</b> <a class=“tocSkip”></a>\n",
    "Los gráficos son una excelente adición a tu análisis. Has utilizado visualizaciones efectivas para mostrar el gasto, CAC y ROMI, lo que facilita la comprensión de las métricas. ¡Gran trabajo!\n",
    "</div>\n",
    "\n"
   ]
  },
  {
   "cell_type": "markdown",
   "metadata": {},
   "source": [
    "## Resultados del análisis\n",
    "\n",
    "### Conclusiones\n",
    "\n",
    "1. **Rentabilidad (ROMI)**:\n",
    "   - La fuente **1** es la más rentable con un **ROMI** de **109.31**, lo que significa que cada dólar invertido en esta fuente genera $109.31 de retorno. Esta fuente es claramente la más efectiva y debería recibir una mayor proporción del presupuesto.\n",
    "   - La fuente **2** también muestra un buen rendimiento con un **ROMI** de **60.63**, por lo que también es recomendable seguir invirtiendo en esta fuente.\n",
    "   - Las fuentes **9** y **10** muestran un rendimiento más bajo en comparación, con **ROMI** de **5.58** y **1.51** respectivamente. Aunque siguen siendo positivas, su rentabilidad es significativamente menor que las fuentes líderes.\n",
    "\n",
    "2. **Costo de Adquisición de Clientes (CAC)**:\n",
    "   - La fuente **9** tiene el **CAC** más bajo (**1.97**), lo que sugiere que es bastante eficiente en términos de costos. Sin embargo, el **ROMI** de esta fuente no es tan alto en comparación con otras, lo que indica que, aunque adquiere clientes a bajo costo, no genera tantos ingresos.\n",
    "   - La fuente **3** tiene un **CAC** elevado (**10.20**), pero su **ROMI** es bajo (**1.09**), lo que indica que no es una inversión eficiente. Esta fuente debería ser reconsiderada, y tal vez reducir su presupuesto.\n",
    "   - Fuentes como **1** y **2** tienen un buen equilibrio entre el CAC y el ROMI, siendo tanto eficientes en términos de adquisición como rentables.\n",
    "\n",
    "3. **Gastos por Fuente de Adquisición**:\n",
    "   - La fuente **3** tiene el gasto más alto (más de **$140,000**), y como se mencionó anteriormente, su rendimiento en términos de ROMI es bajo. Se recomienda **reducir** la inversión en esta fuente y reasignar estos fondos a fuentes más rentables como **1** y **2**.\n",
    "   - El gasto en las fuentes **1** y **2** parece estar bien justificado, dado que ambas tienen altos retornos de inversión.\n",
    "\n",
    "4. **Gastos a lo largo del tiempo**:\n",
    "   - El pico de gasto en el último trimestre de 2017 podría estar justificado si se tiene en cuenta el **LTV de 6.9 meses**, lo que sugiere que el retorno de esa inversión puede no haber sido plenamente reflejado en los ingresos de los primeros meses de 2018. Sin embargo, algunas fuentes como la fuente **3** parecen haber absorbido una gran parte del presupuesto sin mostrar un retorno inmediato significativo. Esto indica la necesidad de **monitorear** de cerca el rendimiento de esas inversiones a medida que los clientes adquiridos alcanzan su **LTV**, para **evaluar** si esa **fuente** debe seguir recibiendo una parte significativa del presupuesto o si es necesario reducir su inversión.\n",
    "\n",
    "### Recomendaciones:\n",
    "\n",
    "- **Reasignar el presupuesto de la fuente 3**: La fuente 3 absorbe una gran parte del gasto, pero no está generando un retorno proporcional. Este presupuesto debería reasignarse a fuentes más eficientes como **1**, **2**, o incluso **9**, que tienen un CAC más bajo.\n",
    "- **Aumentar inversión en fuentes 1 y 2**: Estas fuentes generan los mayores retornos por cada dólar invertido. Una estrategia de inversión más agresiva en estas fuentes podría incrementar los ingresos de manera significativa.\n",
    "- **Mantener la inversión moderada en la fuente 9**: Aunque no es tan rentable como las fuentes líderes, su bajo CAC indica que puede ser una fuente eficiente para atraer nuevos clientes a bajo costo.\n",
    "- **Reducir la inversión en las fuentes 3 y 10**: Dado que estas fuentes muestran un **CAC alto** y un **ROMI bajo**, debería reconsiderarse la inversión en ellas o reducir significativamente su presupuesto."
   ]
  },
  {
   "cell_type": "markdown",
   "metadata": {},
   "source": [
    "<div class=\"alert alert-block alert-success\">\n",
    "<b>Comentario del revisor</b> <a class=“tocSkip”></a>\n",
    "Las conclusiones y recomendaciones están bien fundamentadas y ofrecen una visión clara del rendimiento de las fuentes de adquisición. Has hecho un excelente trabajo al relacionar los datos de rentabilidad y costos con decisiones estratégicas. ¡Buen trabajo!\n",
    "</div>\n"
   ]
  },
  {
   "cell_type": "markdown",
   "metadata": {},
   "source": [
    "<div class=\"alert alert-block alert-success\"> <b>Comentario del revisor</b> <a class=“tocSkip”></a> ¡Excelente trabajo! 👏 Tu proyecto ha sido aprobado. Has demostrado un gran dominio de las herramientas y metodologías aplicadas. Sigue con el mismo entusiasmo en los próximos sprints, ¡estás haciendo un trabajo increíble! 🚀 </div>\n"
   ]
  },
  {
   "cell_type": "code",
   "execution_count": null,
   "metadata": {},
   "outputs": [],
   "source": []
  }
 ],
 "metadata": {
  "ExecuteTimeLog": [
   {
    "duration": 619,
    "start_time": "2024-09-20T02:07:43.627Z"
   },
   {
    "duration": 250,
    "start_time": "2024-09-20T02:09:52.003Z"
   },
   {
    "duration": 556,
    "start_time": "2024-09-20T02:09:58.461Z"
   },
   {
    "duration": 522,
    "start_time": "2024-09-20T02:09:59.020Z"
   },
   {
    "duration": 13,
    "start_time": "2024-09-20T02:09:59.544Z"
   },
   {
    "duration": 17,
    "start_time": "2024-09-20T02:10:23.969Z"
   },
   {
    "duration": 6,
    "start_time": "2024-09-20T02:11:01.094Z"
   },
   {
    "duration": 30,
    "start_time": "2024-09-20T02:11:15.570Z"
   },
   {
    "duration": 5,
    "start_time": "2024-09-20T02:11:28.971Z"
   },
   {
    "duration": 4,
    "start_time": "2024-09-20T02:11:42.470Z"
   },
   {
    "duration": 4,
    "start_time": "2024-09-20T02:11:51.799Z"
   },
   {
    "duration": 36,
    "start_time": "2024-09-20T02:11:55.198Z"
   },
   {
    "duration": 82,
    "start_time": "2024-09-20T02:12:21.235Z"
   },
   {
    "duration": 65,
    "start_time": "2024-09-20T02:13:06.863Z"
   },
   {
    "duration": 61,
    "start_time": "2024-09-20T02:13:30.527Z"
   },
   {
    "duration": 66,
    "start_time": "2024-09-20T02:13:50.147Z"
   },
   {
    "duration": 63,
    "start_time": "2024-09-20T02:14:01.785Z"
   },
   {
    "duration": 61,
    "start_time": "2024-09-20T02:14:08.404Z"
   },
   {
    "duration": 590,
    "start_time": "2024-09-20T02:17:56.772Z"
   },
   {
    "duration": 377,
    "start_time": "2024-09-20T02:17:57.365Z"
   },
   {
    "duration": 77,
    "start_time": "2024-09-20T02:17:57.745Z"
   },
   {
    "duration": 298,
    "start_time": "2024-09-20T02:17:57.826Z"
   },
   {
    "duration": 661,
    "start_time": "2024-09-20T02:17:58.130Z"
   },
   {
    "duration": 0,
    "start_time": "2024-09-20T02:17:58.793Z"
   },
   {
    "duration": 69,
    "start_time": "2024-09-20T02:24:36.808Z"
   },
   {
    "duration": 9,
    "start_time": "2024-09-20T02:25:51.052Z"
   },
   {
    "duration": 7,
    "start_time": "2024-09-20T02:32:33.305Z"
   },
   {
    "duration": 7,
    "start_time": "2024-09-20T02:32:47.832Z"
   },
   {
    "duration": 168,
    "start_time": "2024-09-20T02:33:17.258Z"
   },
   {
    "duration": 46,
    "start_time": "2024-09-20T02:33:29.117Z"
   },
   {
    "duration": 50,
    "start_time": "2024-09-20T02:33:36.030Z"
   },
   {
    "duration": 7,
    "start_time": "2024-09-20T02:34:08.214Z"
   },
   {
    "duration": 7,
    "start_time": "2024-09-20T02:35:45.442Z"
   },
   {
    "duration": 7,
    "start_time": "2024-09-20T02:36:30.960Z"
   },
   {
    "duration": 12,
    "start_time": "2024-09-20T02:36:33.973Z"
   },
   {
    "duration": 8,
    "start_time": "2024-09-20T02:37:29.328Z"
   },
   {
    "duration": 10,
    "start_time": "2024-09-20T02:38:09.812Z"
   },
   {
    "duration": 57,
    "start_time": "2024-09-20T02:38:16.170Z"
   },
   {
    "duration": 8,
    "start_time": "2024-09-20T02:38:47.744Z"
   },
   {
    "duration": 8,
    "start_time": "2024-09-20T02:38:58.340Z"
   },
   {
    "duration": 8,
    "start_time": "2024-09-20T02:39:41.116Z"
   },
   {
    "duration": 140,
    "start_time": "2024-09-20T02:39:47.177Z"
   },
   {
    "duration": 20,
    "start_time": "2024-09-20T02:39:54.611Z"
   },
   {
    "duration": 25,
    "start_time": "2024-09-20T02:39:57.590Z"
   },
   {
    "duration": 5,
    "start_time": "2024-09-20T02:40:04.690Z"
   },
   {
    "duration": 5,
    "start_time": "2024-09-20T02:44:33.204Z"
   },
   {
    "duration": 322,
    "start_time": "2024-09-20T02:53:51.539Z"
   },
   {
    "duration": 604,
    "start_time": "2024-09-20T02:56:57.242Z"
   },
   {
    "duration": 496,
    "start_time": "2024-09-20T02:56:57.849Z"
   },
   {
    "duration": 87,
    "start_time": "2024-09-20T02:56:58.347Z"
   },
   {
    "duration": 10,
    "start_time": "2024-09-20T02:56:58.436Z"
   },
   {
    "duration": 281,
    "start_time": "2024-09-20T02:56:58.449Z"
   },
   {
    "duration": 139,
    "start_time": "2024-09-20T02:56:58.731Z"
   },
   {
    "duration": 15,
    "start_time": "2024-09-20T02:56:58.872Z"
   },
   {
    "duration": 315,
    "start_time": "2024-09-20T02:56:58.889Z"
   },
   {
    "duration": 137,
    "start_time": "2024-09-20T02:56:59.206Z"
   },
   {
    "duration": 10,
    "start_time": "2024-09-20T02:56:59.345Z"
   },
   {
    "duration": 72,
    "start_time": "2024-09-20T02:56:59.357Z"
   },
   {
    "duration": 306,
    "start_time": "2024-09-20T02:59:30.112Z"
   },
   {
    "duration": 157,
    "start_time": "2024-09-20T23:28:56.376Z"
   },
   {
    "duration": 637,
    "start_time": "2024-09-20T23:29:11.338Z"
   },
   {
    "duration": 464,
    "start_time": "2024-09-20T23:29:11.978Z"
   },
   {
    "duration": 70,
    "start_time": "2024-09-20T23:29:12.444Z"
   },
   {
    "duration": 20,
    "start_time": "2024-09-20T23:29:12.516Z"
   },
   {
    "duration": 202,
    "start_time": "2024-09-20T23:29:12.539Z"
   },
   {
    "duration": 146,
    "start_time": "2024-09-20T23:29:12.743Z"
   },
   {
    "duration": 4,
    "start_time": "2024-09-20T23:29:12.891Z"
   },
   {
    "duration": 309,
    "start_time": "2024-09-20T23:29:12.897Z"
   },
   {
    "duration": 93,
    "start_time": "2024-09-20T23:29:13.209Z"
   },
   {
    "duration": 8,
    "start_time": "2024-09-20T23:29:13.304Z"
   },
   {
    "duration": 69,
    "start_time": "2024-09-20T23:29:13.313Z"
   },
   {
    "duration": 93,
    "start_time": "2024-09-20T23:29:13.383Z"
   },
   {
    "duration": 16,
    "start_time": "2024-09-20T23:32:29.738Z"
   },
   {
    "duration": 3,
    "start_time": "2024-09-20T23:34:11.555Z"
   },
   {
    "duration": 11,
    "start_time": "2024-09-20T23:35:46.417Z"
   },
   {
    "duration": 3,
    "start_time": "2024-09-20T23:41:48.726Z"
   },
   {
    "duration": 6,
    "start_time": "2024-09-20T23:42:20.046Z"
   },
   {
    "duration": 4,
    "start_time": "2024-09-20T23:43:46.187Z"
   },
   {
    "duration": 5,
    "start_time": "2024-09-20T23:43:52.271Z"
   },
   {
    "duration": 6,
    "start_time": "2024-09-20T23:44:11.098Z"
   },
   {
    "duration": 7,
    "start_time": "2024-09-20T23:44:14.087Z"
   },
   {
    "duration": 99,
    "start_time": "2024-09-20T23:45:34.818Z"
   },
   {
    "duration": 517,
    "start_time": "2024-09-20T23:46:07.076Z"
   },
   {
    "duration": 551,
    "start_time": "2024-09-20T23:46:31.817Z"
   },
   {
    "duration": 357,
    "start_time": "2024-09-20T23:46:32.370Z"
   },
   {
    "duration": 65,
    "start_time": "2024-09-20T23:46:32.728Z"
   },
   {
    "duration": 8,
    "start_time": "2024-09-20T23:46:32.796Z"
   },
   {
    "duration": 239,
    "start_time": "2024-09-20T23:46:32.806Z"
   },
   {
    "duration": 138,
    "start_time": "2024-09-20T23:46:33.047Z"
   },
   {
    "duration": 4,
    "start_time": "2024-09-20T23:46:33.187Z"
   },
   {
    "duration": 298,
    "start_time": "2024-09-20T23:46:33.192Z"
   },
   {
    "duration": 98,
    "start_time": "2024-09-20T23:46:33.493Z"
   },
   {
    "duration": 7,
    "start_time": "2024-09-20T23:46:33.595Z"
   },
   {
    "duration": 86,
    "start_time": "2024-09-20T23:46:33.604Z"
   },
   {
    "duration": 85,
    "start_time": "2024-09-20T23:46:33.692Z"
   },
   {
    "duration": 16,
    "start_time": "2024-09-20T23:46:33.779Z"
   },
   {
    "duration": 4,
    "start_time": "2024-09-20T23:46:33.796Z"
   },
   {
    "duration": 9,
    "start_time": "2024-09-20T23:46:33.802Z"
   },
   {
    "duration": 20,
    "start_time": "2024-09-20T23:46:33.812Z"
   },
   {
    "duration": 5,
    "start_time": "2024-09-20T23:46:33.834Z"
   },
   {
    "duration": 6,
    "start_time": "2024-09-20T23:46:33.841Z"
   },
   {
    "duration": 106,
    "start_time": "2024-09-20T23:46:33.848Z"
   },
   {
    "duration": 522,
    "start_time": "2024-09-20T23:46:33.956Z"
   },
   {
    "duration": 2010,
    "start_time": "2024-09-20T23:47:25.802Z"
   },
   {
    "duration": 122,
    "start_time": "2024-09-20T23:47:49.076Z"
   },
   {
    "duration": 106,
    "start_time": "2024-09-20T23:48:09.959Z"
   },
   {
    "duration": 3,
    "start_time": "2024-09-20T23:50:26.926Z"
   },
   {
    "duration": 5,
    "start_time": "2024-09-20T23:50:38.304Z"
   },
   {
    "duration": 68,
    "start_time": "2024-09-20T23:51:22.142Z"
   },
   {
    "duration": 182,
    "start_time": "2024-09-20T23:52:18.201Z"
   },
   {
    "duration": 110,
    "start_time": "2024-09-21T00:08:39.933Z"
   },
   {
    "duration": 569,
    "start_time": "2024-09-21T00:09:10.500Z"
   },
   {
    "duration": 367,
    "start_time": "2024-09-21T00:09:11.071Z"
   },
   {
    "duration": 69,
    "start_time": "2024-09-21T00:09:11.440Z"
   },
   {
    "duration": 22,
    "start_time": "2024-09-21T00:09:11.511Z"
   },
   {
    "duration": 207,
    "start_time": "2024-09-21T00:09:11.535Z"
   },
   {
    "duration": 135,
    "start_time": "2024-09-21T00:09:11.745Z"
   },
   {
    "duration": 5,
    "start_time": "2024-09-21T00:09:11.881Z"
   },
   {
    "duration": 300,
    "start_time": "2024-09-21T00:09:11.888Z"
   },
   {
    "duration": 108,
    "start_time": "2024-09-21T00:09:12.189Z"
   },
   {
    "duration": 7,
    "start_time": "2024-09-21T00:09:12.300Z"
   },
   {
    "duration": 69,
    "start_time": "2024-09-21T00:09:12.308Z"
   },
   {
    "duration": 94,
    "start_time": "2024-09-21T00:09:12.379Z"
   },
   {
    "duration": 14,
    "start_time": "2024-09-21T00:09:12.475Z"
   },
   {
    "duration": 3,
    "start_time": "2024-09-21T00:09:12.491Z"
   },
   {
    "duration": 10,
    "start_time": "2024-09-21T00:09:12.496Z"
   },
   {
    "duration": 24,
    "start_time": "2024-09-21T00:09:12.508Z"
   },
   {
    "duration": 9,
    "start_time": "2024-09-21T00:09:12.534Z"
   },
   {
    "duration": 6,
    "start_time": "2024-09-21T00:09:12.544Z"
   },
   {
    "duration": 94,
    "start_time": "2024-09-21T00:09:12.551Z"
   },
   {
    "duration": 65,
    "start_time": "2024-09-21T00:09:12.647Z"
   },
   {
    "duration": 280,
    "start_time": "2024-09-21T00:09:12.714Z"
   },
   {
    "duration": 141,
    "start_time": "2024-09-21T00:09:12.996Z"
   },
   {
    "duration": 124,
    "start_time": "2024-09-21T00:09:13.139Z"
   },
   {
    "duration": 114,
    "start_time": "2024-09-21T00:09:13.265Z"
   },
   {
    "duration": 163,
    "start_time": "2024-09-21T00:09:42.454Z"
   },
   {
    "duration": 67,
    "start_time": "2024-09-21T00:10:21.074Z"
   },
   {
    "duration": 73,
    "start_time": "2024-09-21T00:10:44.133Z"
   },
   {
    "duration": 73,
    "start_time": "2024-09-21T00:11:26.628Z"
   },
   {
    "duration": 7,
    "start_time": "2024-09-21T00:11:33.516Z"
   },
   {
    "duration": 4,
    "start_time": "2024-09-21T00:11:38.197Z"
   },
   {
    "duration": 3,
    "start_time": "2024-09-21T00:11:42.765Z"
   },
   {
    "duration": 12,
    "start_time": "2024-09-21T00:12:41.674Z"
   },
   {
    "duration": 3,
    "start_time": "2024-09-21T00:12:47.332Z"
   },
   {
    "duration": 16,
    "start_time": "2024-09-21T00:13:13.103Z"
   },
   {
    "duration": 77,
    "start_time": "2024-09-21T00:13:31.882Z"
   },
   {
    "duration": 51,
    "start_time": "2024-09-21T00:15:14.596Z"
   },
   {
    "duration": 8,
    "start_time": "2024-09-21T00:15:28.937Z"
   },
   {
    "duration": 254,
    "start_time": "2024-09-21T00:15:47.237Z"
   },
   {
    "duration": 8,
    "start_time": "2024-09-21T00:16:33.455Z"
   },
   {
    "duration": 3,
    "start_time": "2024-09-21T00:16:44.639Z"
   },
   {
    "duration": 757,
    "start_time": "2024-09-21T00:17:32.467Z"
   },
   {
    "duration": 351,
    "start_time": "2024-09-21T00:17:33.226Z"
   },
   {
    "duration": 72,
    "start_time": "2024-09-21T00:17:33.579Z"
   },
   {
    "duration": 8,
    "start_time": "2024-09-21T00:17:33.653Z"
   },
   {
    "duration": 216,
    "start_time": "2024-09-21T00:17:33.664Z"
   },
   {
    "duration": 134,
    "start_time": "2024-09-21T00:17:33.882Z"
   },
   {
    "duration": 13,
    "start_time": "2024-09-21T00:17:34.018Z"
   },
   {
    "duration": 288,
    "start_time": "2024-09-21T00:17:34.032Z"
   },
   {
    "duration": 94,
    "start_time": "2024-09-21T00:17:34.322Z"
   },
   {
    "duration": 20,
    "start_time": "2024-09-21T00:17:34.418Z"
   },
   {
    "duration": 52,
    "start_time": "2024-09-21T00:17:34.440Z"
   },
   {
    "duration": 100,
    "start_time": "2024-09-21T00:17:34.494Z"
   },
   {
    "duration": 16,
    "start_time": "2024-09-21T00:17:34.596Z"
   },
   {
    "duration": 4,
    "start_time": "2024-09-21T00:17:34.614Z"
   },
   {
    "duration": 11,
    "start_time": "2024-09-21T00:17:34.631Z"
   },
   {
    "duration": 3,
    "start_time": "2024-09-21T00:17:34.644Z"
   },
   {
    "duration": 4,
    "start_time": "2024-09-21T00:17:34.649Z"
   },
   {
    "duration": 5,
    "start_time": "2024-09-21T00:17:34.655Z"
   },
   {
    "duration": 112,
    "start_time": "2024-09-21T00:17:34.662Z"
   },
   {
    "duration": 71,
    "start_time": "2024-09-21T00:17:34.778Z"
   },
   {
    "duration": 132,
    "start_time": "2024-09-21T00:17:34.851Z"
   },
   {
    "duration": 130,
    "start_time": "2024-09-21T00:17:34.985Z"
   },
   {
    "duration": 116,
    "start_time": "2024-09-21T00:17:35.117Z"
   },
   {
    "duration": 113,
    "start_time": "2024-09-21T00:17:35.234Z"
   },
   {
    "duration": 86,
    "start_time": "2024-09-21T00:31:10.403Z"
   },
   {
    "duration": 171,
    "start_time": "2024-09-21T00:33:41.070Z"
   },
   {
    "duration": 126,
    "start_time": "2024-09-21T00:33:55.034Z"
   },
   {
    "duration": 125,
    "start_time": "2024-09-21T00:38:45.244Z"
   }
  ],
  "kernelspec": {
   "display_name": "Python 3 (ipykernel)",
   "language": "python",
   "name": "python3"
  },
  "language_info": {
   "codemirror_mode": {
    "name": "ipython",
    "version": 3
   },
   "file_extension": ".py",
   "mimetype": "text/x-python",
   "name": "python",
   "nbconvert_exporter": "python",
   "pygments_lexer": "ipython3",
   "version": "3.9.19"
  },
  "toc": {
   "base_numbering": 1,
   "nav_menu": {},
   "number_sections": true,
   "sideBar": true,
   "skip_h1_title": true,
   "title_cell": "Table of Contents",
   "title_sidebar": "Contents",
   "toc_cell": false,
   "toc_position": {},
   "toc_section_display": true,
   "toc_window_display": false
  }
 },
 "nbformat": 4,
 "nbformat_minor": 2
}
